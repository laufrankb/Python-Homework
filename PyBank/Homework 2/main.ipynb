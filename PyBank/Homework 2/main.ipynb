{
 "cells": [
  {
   "cell_type": "code",
   "execution_count": 9,
   "source": [
    "# initial imports\r\n",
    "\r\n",
    "import pandas as pd\r\n",
    "from pathlib import Path "
   ],
   "outputs": [],
   "metadata": {}
  },
  {
   "cell_type": "code",
   "execution_count": 10,
   "source": [
    "# Creating Dataframe with CSV file\r\n",
    "\r\n",
    "csvpath = Path(\"../Resources/budget_data.csv\")\r\n",
    "df = pd.read_csv(csvpath, delimiter = ',')"
   ],
   "outputs": [],
   "metadata": {}
  },
  {
   "cell_type": "code",
   "execution_count": 11,
   "source": [
    "# Create lists and variables\r\n",
    "\r\n",
    "months = []\r\n",
    "profit = []\r\n",
    "changes = []\r\n",
    "greatest_inc = 0\r\n",
    "greatest_dec = 0\r\n",
    "totals = 0\r\n",
    "total_rows = df.shape[0]"
   ],
   "outputs": [],
   "metadata": {}
  },
  {
   "cell_type": "code",
   "execution_count": 12,
   "source": [
    "# Putting the data into the lists\r\n",
    "\r\n",
    "for i, row in df.iterrows():\r\n",
    "    months.append(row['Date'])\r\n",
    "    profit.append(row['Profit/Losses'])"
   ],
   "outputs": [],
   "metadata": {}
  },
  {
   "cell_type": "code",
   "execution_count": 13,
   "source": [
    "# Summing up all the numbers in the Profit/Losses column to find the grand total\r\n",
    "\r\n",
    "totals = sum(df['Profit/Losses'])"
   ],
   "outputs": [],
   "metadata": {}
  },
  {
   "cell_type": "code",
   "execution_count": 14,
   "source": [
    "# Calculations to find the greatest increase month and greatest decrease month\r\n",
    "\r\n",
    "for i in range(len(profit)):\r\n",
    "        if int(profit[i]) - int(profit[i-1]) >= greatest_inc:\r\n",
    "            greatest_inc = int(profit[i]) - int(profit[i-1])\r\n",
    "            greatest_inc_month = months[i]\r\n",
    "\r\n",
    "        elif int(profit[i]) - int(profit[i-1]) <= greatest_dec:\r\n",
    "            greatest_dec = int(profit[i]) - int(profit[i-1])\r\n",
    "            greatest_dec_month = months[i]"
   ],
   "outputs": [],
   "metadata": {}
  },
  {
   "cell_type": "code",
   "execution_count": 15,
   "source": [
    "# Calculating the average change between months\r\n",
    "\r\n",
    "for i in range(1, len(profit)):\r\n",
    "    average_change = int(profit[i]) - int(profit[i-1])\r\n",
    "    changes.append(int(average_change))\r\n",
    "\r\n",
    "average_change = round(sum(changes)/(total_rows),2)"
   ],
   "outputs": [],
   "metadata": {}
  },
  {
   "cell_type": "code",
   "execution_count": 16,
   "source": [
    "# Print out the results and write the text file\r\n",
    "\r\n",
    "analysis=(\"Financial Analysis\"\r\n",
    "        \"\\n-----------------------------\"\r\n",
    "        f\"\\nTotal Months: {total_rows}\"\r\n",
    "        f\"\\nTotal: ${totals}\"\r\n",
    "        f\"\\nAverage Change: ${average_change}\"\r\n",
    "        f\"\\nGreatest Increase in Profits: {greatest_inc_month} (${greatest_inc})\"\r\n",
    "        f\"\\nGreatest Decrease in Profits: {greatest_dec_month} (${greatest_dec})\")\r\n",
    "\r\n",
    "with open('Financial Analysis.txt', 'w') as f:\r\n",
    "        f.write(str(analysis))\r\n",
    "print(analysis)"
   ],
   "outputs": [
    {
     "output_type": "stream",
     "name": "stdout",
     "text": [
      "Financial Analysis\n",
      "-----------------------------\n",
      "Total Months: 86\n",
      "Total: $38382578\n",
      "Average Change: $-2288.2\n",
      "Greatest Increase in Profits: Feb-2012 ($1926159)\n",
      "Greatest Decrease in Profits: Sep-2013 ($-2196167)\n"
     ]
    }
   ],
   "metadata": {}
  },
  {
   "cell_type": "code",
   "execution_count": null,
   "source": [],
   "outputs": [],
   "metadata": {}
  }
 ],
 "metadata": {
  "kernelspec": {
   "name": "python3",
   "display_name": "Python 3.8.8 64-bit ('FinTech': conda)"
  },
  "language_info": {
   "codemirror_mode": {
    "name": "ipython",
    "version": 3
   },
   "file_extension": ".py",
   "mimetype": "text/x-python",
   "name": "python",
   "nbconvert_exporter": "python",
   "pygments_lexer": "ipython3",
   "version": "3.8.8"
  },
  "interpreter": {
   "hash": "eb27fb2547c74a4f1c950e2ad4ce5261b6b7f52daac68b9fd6aebbec8567ff11"
  }
 },
 "nbformat": 4,
 "nbformat_minor": 5
}