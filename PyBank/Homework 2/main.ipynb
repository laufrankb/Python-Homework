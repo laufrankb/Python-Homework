{
 "cells": [
  {
   "cell_type": "code",
   "execution_count": 32,
   "source": [
    "# initial imports\r\n",
    "import pandas as pd\r\n",
    "from pathlib import Path "
   ],
   "outputs": [],
   "metadata": {}
  },
  {
   "cell_type": "code",
   "execution_count": 33,
   "source": [
    "# Creating Dataframe with CSV file\r\n",
    "csvpath = Path(\"../Resources/budget_data.csv\")\r\n",
    "df = pd.read_csv(csvpath, delimiter = ',')\r\n",
    "df.head()"
   ],
   "outputs": [
    {
     "output_type": "execute_result",
     "data": {
      "text/html": [
       "<div>\n",
       "<style scoped>\n",
       "    .dataframe tbody tr th:only-of-type {\n",
       "        vertical-align: middle;\n",
       "    }\n",
       "\n",
       "    .dataframe tbody tr th {\n",
       "        vertical-align: top;\n",
       "    }\n",
       "\n",
       "    .dataframe thead th {\n",
       "        text-align: right;\n",
       "    }\n",
       "</style>\n",
       "<table border=\"1\" class=\"dataframe\">\n",
       "  <thead>\n",
       "    <tr style=\"text-align: right;\">\n",
       "      <th></th>\n",
       "      <th>Date</th>\n",
       "      <th>Profit/Losses</th>\n",
       "    </tr>\n",
       "  </thead>\n",
       "  <tbody>\n",
       "    <tr>\n",
       "      <th>0</th>\n",
       "      <td>Jan-2010</td>\n",
       "      <td>867884</td>\n",
       "    </tr>\n",
       "    <tr>\n",
       "      <th>1</th>\n",
       "      <td>Feb-2010</td>\n",
       "      <td>984655</td>\n",
       "    </tr>\n",
       "    <tr>\n",
       "      <th>2</th>\n",
       "      <td>Mar-2010</td>\n",
       "      <td>322013</td>\n",
       "    </tr>\n",
       "    <tr>\n",
       "      <th>3</th>\n",
       "      <td>Apr-2010</td>\n",
       "      <td>-69417</td>\n",
       "    </tr>\n",
       "    <tr>\n",
       "      <th>4</th>\n",
       "      <td>May-2010</td>\n",
       "      <td>310503</td>\n",
       "    </tr>\n",
       "  </tbody>\n",
       "</table>\n",
       "</div>"
      ],
      "text/plain": [
       "       Date  Profit/Losses\n",
       "0  Jan-2010         867884\n",
       "1  Feb-2010         984655\n",
       "2  Mar-2010         322013\n",
       "3  Apr-2010         -69417\n",
       "4  May-2010         310503"
      ]
     },
     "metadata": {},
     "execution_count": 33
    }
   ],
   "metadata": {}
  },
  {
   "cell_type": "code",
   "execution_count": 34,
   "source": [
    "# Create lists and variables\r\n",
    "months = []\r\n",
    "profit = []\r\n",
    "changes = []\r\n",
    "greatest_inc = 0\r\n",
    "greatest_dec = 0\r\n",
    "totals = 0\r\n",
    "total_rows = df.shape[0]"
   ],
   "outputs": [],
   "metadata": {}
  },
  {
   "cell_type": "code",
   "execution_count": 35,
   "source": [
    "# Putting the data into the lists\r\n",
    "for i, row in df.iterrows():\r\n",
    "    months.append(row['Date'])\r\n",
    "    profit.append(row['Profit/Losses'])\r\n"
   ],
   "outputs": [],
   "metadata": {}
  },
  {
   "cell_type": "code",
   "execution_count": 36,
   "source": [
    "# Summing up all the numbers in the Profit/Losses column to find the totals\r\n",
    "totals = sum(df['Profit/Losses'])"
   ],
   "outputs": [],
   "metadata": {}
  },
  {
   "cell_type": "code",
   "execution_count": 37,
   "source": [
    "# Calculations to find the greatest increase month and greatest decrease month\r\n",
    "\r\n",
    "for i in range(len(profit)):\r\n",
    "        if int(profit[i]) - int(profit[i-1]) >= greatest_inc:\r\n",
    "            greatest_inc = int(profit[i]) - int(profit[i-1])\r\n",
    "            greatest_inc_month = months[i]\r\n",
    "\r\n",
    "        elif int(profit[i]) - int(profit[i-1]) <= greatest_dec:\r\n",
    "            greatest_dec = int(profit[i]) - int(profit[i-1])\r\n",
    "            greatest_dec_month = months[i]\r\n",
    "\r\n"
   ],
   "outputs": [],
   "metadata": {}
  },
  {
   "cell_type": "code",
   "execution_count": 38,
   "source": [
    "# Calculating the average change\r\n",
    "\r\n",
    "for i in range(1, len(profit)):\r\n",
    "    average_change = int(profit[i]) - int(profit[i-1])\r\n",
    "    changes.append(int(average_change))\r\n",
    "\r\n",
    "average_change = round(sum(changes)/(total_rows),2)\r\n",
    "print(average_change)\r\n",
    "print(len(profit))\r\n",
    "\r\n"
   ],
   "outputs": [
    {
     "output_type": "stream",
     "name": "stdout",
     "text": [
      "-2288.2\n",
      "86\n"
     ]
    }
   ],
   "metadata": {}
  },
  {
   "cell_type": "code",
   "execution_count": 39,
   "source": [
    "# Print out the results and write the text file\r\n",
    "analysis=(\"Financial Analysis\"\r\n",
    "        \"\\n-----------------------------\"\r\n",
    "        f\"\\nTotal Months: {total_rows}\"\r\n",
    "        f\"\\nTotal: ${totals}\"\r\n",
    "        f\"\\nAverage Change: ${average_change}\"\r\n",
    "        f\"\\nGreatest Increase in Profits: {greatest_inc_month} (${greatest_inc})\"\r\n",
    "        f\"\\nGreatest Decrease in Profits: {greatest_dec_month} (${greatest_dec})\")\r\n",
    "\r\n",
    "with open('Financial Analysis.txt', 'w') as f:\r\n",
    "        f.write(str(analysis))\r\n",
    "print(analysis)"
   ],
   "outputs": [
    {
     "output_type": "stream",
     "name": "stdout",
     "text": [
      "Financial Analysis\n",
      "-----------------------------\n",
      "Total Months: 86\n",
      "Total: $38382578\n",
      "Average Change: $-2288.2\n",
      "Greatest Increase in Profits: Feb-2012 ($1926159)\n",
      "Greatest Decrease in Profits: Sep-2013 ($-2196167)\n"
     ]
    }
   ],
   "metadata": {}
  },
  {
   "cell_type": "code",
   "execution_count": null,
   "source": [],
   "outputs": [],
   "metadata": {}
  }
 ],
 "metadata": {
  "kernelspec": {
   "name": "python3",
   "display_name": "Python 3.8.8 64-bit ('FinTech': conda)"
  },
  "language_info": {
   "codemirror_mode": {
    "name": "ipython",
    "version": 3
   },
   "file_extension": ".py",
   "mimetype": "text/x-python",
   "name": "python",
   "nbconvert_exporter": "python",
   "pygments_lexer": "ipython3",
   "version": "3.8.8"
  },
  "interpreter": {
   "hash": "eb27fb2547c74a4f1c950e2ad4ce5261b6b7f52daac68b9fd6aebbec8567ff11"
  }
 },
 "nbformat": 4,
 "nbformat_minor": 5
}